{
 "cells": [
  {
   "cell_type": "markdown",
   "metadata": {},
   "source": [
    "# Marketing Analytics Assignment\n",
    "\n",
    "\n",
    "### About the Data\n",
    "\n",
    "The company provides home services via online discovery platform \t\t\t\t\t\t\t\t\t\t\n",
    "Each row corresponds to one transaction (transaction/order/request will be used interchangeably) placed by a customer tracked by \"Transaction_ID\" unique to the order placed\t\t\t\t\t\t\t\t\t\t\n",
    "\"Profile ID\" is the unique identity value of each customer. For example, transactions with IDs \"BBCHH\", \"CHWFD\" are placed by the same customer identified through profile ID \"1\"\t\t\t\t\t\t\t\t\t\t\n",
    "Date of Booking is the date on which customer placed the order\t\t\t\t\t\t\t\t\t\t\n",
    "Date of service requested is the date on which the customer needs the service delivered at his/her house\t\t\t\t\t\tSlot of Booking is the hour of the service requested date when the customer wants the service to be delivered\t\t\t\t\tSource is the channel of channel of customer (eg: Customer came to the app/web via Google, Facebook etc)\n",
    "\n",
    "#### First, we import the necessary Libraries and Data"
   ]
  },
  {
   "cell_type": "code",
   "execution_count": 1,
   "metadata": {},
   "outputs": [],
   "source": [
    "import numpy as np\n",
    "import pandas as pd\n",
    "import matplotlib\n",
    "import matplotlib.pyplot as plt\n",
    "import datetime\n",
    "import seaborn as sb"
   ]
  },
  {
   "cell_type": "code",
   "execution_count": 2,
   "metadata": {},
   "outputs": [
    {
     "data": {
      "text/html": [
       "<div>\n",
       "<style scoped>\n",
       "    .dataframe tbody tr th:only-of-type {\n",
       "        vertical-align: middle;\n",
       "    }\n",
       "\n",
       "    .dataframe tbody tr th {\n",
       "        vertical-align: top;\n",
       "    }\n",
       "\n",
       "    .dataframe thead th {\n",
       "        text-align: right;\n",
       "    }\n",
       "</style>\n",
       "<table border=\"1\" class=\"dataframe\">\n",
       "  <thead>\n",
       "    <tr style=\"text-align: right;\">\n",
       "      <th></th>\n",
       "      <th>Transaction_ID</th>\n",
       "      <th>Profile ID</th>\n",
       "      <th>Date_of_Booking</th>\n",
       "      <th>Date_of_Service_Requested</th>\n",
       "      <th>Source</th>\n",
       "      <th>Slot of Booking (Hour of the Day)</th>\n",
       "    </tr>\n",
       "  </thead>\n",
       "  <tbody>\n",
       "    <tr>\n",
       "      <th>0</th>\n",
       "      <td>BBCHH</td>\n",
       "      <td>1</td>\n",
       "      <td>2018-05-20</td>\n",
       "      <td>2018-05-21</td>\n",
       "      <td>D</td>\n",
       "      <td>14</td>\n",
       "    </tr>\n",
       "    <tr>\n",
       "      <th>1</th>\n",
       "      <td>CHWFD</td>\n",
       "      <td>1</td>\n",
       "      <td>2018-09-23</td>\n",
       "      <td>2018-09-23</td>\n",
       "      <td>C</td>\n",
       "      <td>8</td>\n",
       "    </tr>\n",
       "    <tr>\n",
       "      <th>2</th>\n",
       "      <td>DYDMF</td>\n",
       "      <td>2</td>\n",
       "      <td>2018-11-10</td>\n",
       "      <td>2018-11-13</td>\n",
       "      <td>C</td>\n",
       "      <td>11</td>\n",
       "    </tr>\n",
       "    <tr>\n",
       "      <th>3</th>\n",
       "      <td>EZYSA</td>\n",
       "      <td>3</td>\n",
       "      <td>2018-04-12</td>\n",
       "      <td>2018-04-16</td>\n",
       "      <td>B</td>\n",
       "      <td>8</td>\n",
       "    </tr>\n",
       "    <tr>\n",
       "      <th>4</th>\n",
       "      <td>HWAKX</td>\n",
       "      <td>3</td>\n",
       "      <td>2018-08-05</td>\n",
       "      <td>2018-08-06</td>\n",
       "      <td>B</td>\n",
       "      <td>11</td>\n",
       "    </tr>\n",
       "  </tbody>\n",
       "</table>\n",
       "</div>"
      ],
      "text/plain": [
       "  Transaction_ID  Profile ID Date_of_Booking Date_of_Service_Requested Source  \\\n",
       "0          BBCHH           1      2018-05-20                2018-05-21      D   \n",
       "1          CHWFD           1      2018-09-23                2018-09-23      C   \n",
       "2          DYDMF           2      2018-11-10                2018-11-13      C   \n",
       "3          EZYSA           3      2018-04-12                2018-04-16      B   \n",
       "4          HWAKX           3      2018-08-05                2018-08-06      B   \n",
       "\n",
       "   Slot of Booking (Hour of the Day)  \n",
       "0                                 14  \n",
       "1                                  8  \n",
       "2                                 11  \n",
       "3                                  8  \n",
       "4                                 11  "
      ]
     },
     "execution_count": 2,
     "metadata": {},
     "output_type": "execute_result"
    }
   ],
   "source": [
    "df = pd.read_excel('UrbanClap_data.xlsx')\n",
    "df.head()"
   ]
  },
  {
   "cell_type": "code",
   "execution_count": 3,
   "metadata": {},
   "outputs": [
    {
     "data": {
      "text/html": [
       "<div>\n",
       "<style scoped>\n",
       "    .dataframe tbody tr th:only-of-type {\n",
       "        vertical-align: middle;\n",
       "    }\n",
       "\n",
       "    .dataframe tbody tr th {\n",
       "        vertical-align: top;\n",
       "    }\n",
       "\n",
       "    .dataframe thead th {\n",
       "        text-align: right;\n",
       "    }\n",
       "</style>\n",
       "<table border=\"1\" class=\"dataframe\">\n",
       "  <thead>\n",
       "    <tr style=\"text-align: right;\">\n",
       "      <th></th>\n",
       "      <th>Transaction_ID</th>\n",
       "      <th>Profile ID</th>\n",
       "      <th>Date_of_Booking</th>\n",
       "      <th>Date_of_Service_Requested</th>\n",
       "      <th>Source</th>\n",
       "      <th>Slot of Booking (Hour of the Day)</th>\n",
       "    </tr>\n",
       "  </thead>\n",
       "  <tbody>\n",
       "    <tr>\n",
       "      <th>30935</th>\n",
       "      <td>FOXPU</td>\n",
       "      <td>16707</td>\n",
       "      <td>2018-09-29</td>\n",
       "      <td>2018-10-02</td>\n",
       "      <td>C</td>\n",
       "      <td>18</td>\n",
       "    </tr>\n",
       "    <tr>\n",
       "      <th>30936</th>\n",
       "      <td>ZNKAO</td>\n",
       "      <td>16708</td>\n",
       "      <td>2018-03-12</td>\n",
       "      <td>2018-03-16</td>\n",
       "      <td>A</td>\n",
       "      <td>13</td>\n",
       "    </tr>\n",
       "    <tr>\n",
       "      <th>30937</th>\n",
       "      <td>INBOS</td>\n",
       "      <td>16709</td>\n",
       "      <td>2018-01-05</td>\n",
       "      <td>2018-01-10</td>\n",
       "      <td>C</td>\n",
       "      <td>14</td>\n",
       "    </tr>\n",
       "    <tr>\n",
       "      <th>30938</th>\n",
       "      <td>CUNOS</td>\n",
       "      <td>16710</td>\n",
       "      <td>2018-02-26</td>\n",
       "      <td>2018-03-03</td>\n",
       "      <td>C</td>\n",
       "      <td>19</td>\n",
       "    </tr>\n",
       "    <tr>\n",
       "      <th>30939</th>\n",
       "      <td>DUBEV</td>\n",
       "      <td>16711</td>\n",
       "      <td>2018-04-30</td>\n",
       "      <td>2018-05-03</td>\n",
       "      <td>B</td>\n",
       "      <td>13</td>\n",
       "    </tr>\n",
       "  </tbody>\n",
       "</table>\n",
       "</div>"
      ],
      "text/plain": [
       "      Transaction_ID  Profile ID Date_of_Booking Date_of_Service_Requested  \\\n",
       "30935          FOXPU       16707      2018-09-29                2018-10-02   \n",
       "30936          ZNKAO       16708      2018-03-12                2018-03-16   \n",
       "30937          INBOS       16709      2018-01-05                2018-01-10   \n",
       "30938          CUNOS       16710      2018-02-26                2018-03-03   \n",
       "30939          DUBEV       16711      2018-04-30                2018-05-03   \n",
       "\n",
       "      Source  Slot of Booking (Hour of the Day)  \n",
       "30935      C                                 18  \n",
       "30936      A                                 13  \n",
       "30937      C                                 14  \n",
       "30938      C                                 19  \n",
       "30939      B                                 13  "
      ]
     },
     "execution_count": 3,
     "metadata": {},
     "output_type": "execute_result"
    }
   ],
   "source": [
    "df.tail()"
   ]
  },
  {
   "cell_type": "markdown",
   "metadata": {},
   "source": [
    "## Q1. 1.Plot new users acquired every month on a bar chart (New user in a month = a customer who has placed a request for the first time ever)\n",
    "\n",
    "Just by looking at the records of the data frame we can figure out that the data is presently sorted by ```Profile ID```. However, for this question it would be convenient for us if it were sorted by ```Date_of_Booking```"
   ]
  },
  {
   "cell_type": "code",
   "execution_count": 4,
   "metadata": {},
   "outputs": [
    {
     "data": {
      "text/html": [
       "<div>\n",
       "<style scoped>\n",
       "    .dataframe tbody tr th:only-of-type {\n",
       "        vertical-align: middle;\n",
       "    }\n",
       "\n",
       "    .dataframe tbody tr th {\n",
       "        vertical-align: top;\n",
       "    }\n",
       "\n",
       "    .dataframe thead th {\n",
       "        text-align: right;\n",
       "    }\n",
       "</style>\n",
       "<table border=\"1\" class=\"dataframe\">\n",
       "  <thead>\n",
       "    <tr style=\"text-align: right;\">\n",
       "      <th></th>\n",
       "      <th>Transaction_ID</th>\n",
       "      <th>Profile ID</th>\n",
       "      <th>Date_of_Booking</th>\n",
       "      <th>Date_of_Service_Requested</th>\n",
       "      <th>Source</th>\n",
       "      <th>Slot of Booking (Hour of the Day)</th>\n",
       "    </tr>\n",
       "  </thead>\n",
       "  <tbody>\n",
       "    <tr>\n",
       "      <th>25310</th>\n",
       "      <td>SAGTE</td>\n",
       "      <td>13602</td>\n",
       "      <td>2017-12-01</td>\n",
       "      <td>2017-12-03</td>\n",
       "      <td>D</td>\n",
       "      <td>18</td>\n",
       "    </tr>\n",
       "    <tr>\n",
       "      <th>14754</th>\n",
       "      <td>SRHLB</td>\n",
       "      <td>7974</td>\n",
       "      <td>2017-12-01</td>\n",
       "      <td>2017-12-03</td>\n",
       "      <td>A</td>\n",
       "      <td>8</td>\n",
       "    </tr>\n",
       "    <tr>\n",
       "      <th>10039</th>\n",
       "      <td>RJHNB</td>\n",
       "      <td>5436</td>\n",
       "      <td>2017-12-01</td>\n",
       "      <td>2017-12-06</td>\n",
       "      <td>C</td>\n",
       "      <td>7</td>\n",
       "    </tr>\n",
       "    <tr>\n",
       "      <th>3398</th>\n",
       "      <td>VGEHF</td>\n",
       "      <td>1833</td>\n",
       "      <td>2017-12-01</td>\n",
       "      <td>2017-12-02</td>\n",
       "      <td>B</td>\n",
       "      <td>14</td>\n",
       "    </tr>\n",
       "    <tr>\n",
       "      <th>22773</th>\n",
       "      <td>CHFWJ</td>\n",
       "      <td>12184</td>\n",
       "      <td>2017-12-01</td>\n",
       "      <td>2017-12-03</td>\n",
       "      <td>C</td>\n",
       "      <td>13</td>\n",
       "    </tr>\n",
       "  </tbody>\n",
       "</table>\n",
       "</div>"
      ],
      "text/plain": [
       "      Transaction_ID  Profile ID Date_of_Booking Date_of_Service_Requested  \\\n",
       "25310          SAGTE       13602      2017-12-01                2017-12-03   \n",
       "14754          SRHLB        7974      2017-12-01                2017-12-03   \n",
       "10039          RJHNB        5436      2017-12-01                2017-12-06   \n",
       "3398           VGEHF        1833      2017-12-01                2017-12-02   \n",
       "22773          CHFWJ       12184      2017-12-01                2017-12-03   \n",
       "\n",
       "      Source  Slot of Booking (Hour of the Day)  \n",
       "25310      D                                 18  \n",
       "14754      A                                  8  \n",
       "10039      C                                  7  \n",
       "3398       B                                 14  \n",
       "22773      C                                 13  "
      ]
     },
     "execution_count": 4,
     "metadata": {},
     "output_type": "execute_result"
    }
   ],
   "source": [
    "df_sorted = df.sort_values(\"Date_of_Booking\",axis=0, ascending= True)\n",
    "df_sorted.head()"
   ]
  },
  {
   "cell_type": "markdown",
   "metadata": {},
   "source": [
    "#### Next, we convert the ```Date_of_Booking``` column from YYYY-MM-DD to YYYY-MM format"
   ]
  },
  {
   "cell_type": "code",
   "execution_count": 5,
   "metadata": {},
   "outputs": [],
   "source": [
    "df_sorted['Month_of_Booking'] = pd.to_datetime(df['Date_of_Booking']).dt.to_period('M')"
   ]
  },
  {
   "cell_type": "code",
   "execution_count": 6,
   "metadata": {},
   "outputs": [
    {
     "data": {
      "text/plain": [
       "array([Period('2017-12', 'M'), Period('2018-01', 'M'),\n",
       "       Period('2018-02', 'M'), Period('2018-03', 'M'),\n",
       "       Period('2018-04', 'M'), Period('2018-05', 'M'),\n",
       "       Period('2018-06', 'M'), Period('2018-07', 'M'),\n",
       "       Period('2018-08', 'M'), Period('2018-09', 'M'),\n",
       "       Period('2018-10', 'M'), Period('2018-11', 'M')], dtype=object)"
      ]
     },
     "execution_count": 6,
     "metadata": {},
     "output_type": "execute_result"
    }
   ],
   "source": [
    "df_sorted[\"Month_of_Booking\"].unique()"
   ]
  },
  {
   "cell_type": "markdown",
   "metadata": {},
   "source": [
    "#### Finally, we plot the new users by carrying out the following operations :\n",
    "<br>\n",
    "\n",
    "<div style=\"text-align: justify\">\n",
    "       1. Keeping only the first instance of a Profile (Since we have already sorted by ```Date_of_Booking``` the first Instance of a ```Profile ID``` is  the customer's first order.    \n",
    "     2. Grouping the Data by ```Month_of_Booking``` which represents the month of Booking\n",
    "     \n",
    "<br>\n",
    "     3. Using aggregate function count to count the number of orders by month\n",
    "     \n",
    "<br>\n",
    "     \n",
    "     4. Plotting the data into a bar plot\n",
    "     \n",
    " </div>"
   ]
  },
  {
   "cell_type": "code",
   "execution_count": 7,
   "metadata": {},
   "outputs": [
    {
     "name": "stdout",
     "output_type": "stream",
     "text": [
      "Month_of_Booking\n",
      "2017-12    2424\n",
      "2018-01    1892\n",
      "2018-02    1549\n",
      "2018-03    1490\n",
      "2018-04    1346\n",
      "2018-05    1264\n",
      "2018-06    1273\n",
      "2018-07    1208\n",
      "2018-08    1120\n",
      "2018-09    1020\n",
      "2018-10    1110\n",
      "2018-11    1015\n",
      "Freq: M, Name: Profile ID, dtype: int64\n"
     ]
    },
    {
     "data": {
      "text/plain": [
       "<matplotlib.axes._subplots.AxesSubplot at 0x26271f98748>"
      ]
     },
     "execution_count": 7,
     "metadata": {},
     "output_type": "execute_result"
    },
    {
     "data": {
      "image/png": "[encoded data removed]",
      "text/plain": [
       "<Figure size 432x288 with 1 Axes>"
      ]
     },
     "metadata": {},
     "output_type": "display_data"
    }
   ],
   "source": [
    "print(df_sorted.drop_duplicates('Profile ID',keep = 'first').groupby(\"Month_of_Booking\").agg(\"count\")[\"Profile ID\"])\n",
    "(df_sorted.drop_duplicates('Profile ID',keep = 'first').groupby(\"Month_of_Booking\").agg(\"count\")[\"Profile ID\"]).plot.bar()"
   ]
  },
  {
   "cell_type": "markdown",
   "metadata": {},
   "source": [
    "The above analysis is based on the assumption that there exist no previous order records of any of the Customers prior to the start of the provided dataset i.e. ```2017-12-01```\n",
    "\n",
    "### Insight from the above \n",
    "\n",
    "There has been a gradual decrease in the number of new Customers being acquired month-by-month, however there hasn't been significant decrease in the past 4 months and it might be safe to say that the decreasing trend has stabalized around 1000-1100 new customers per month"
   ]
  },
  {
   "cell_type": "markdown",
   "metadata": {},
   "source": [
    "## Q2 30-Day repeat rate is defined as percentage of new users who have placed a 2nd order within 30 days of placing their first order. What is the 30-day repeat rate of users acquired in December 2017?\"\t\t\n",
    "\n",
    "The approach I used for this question is that  if I get the first time users for December 2017 like I did for the whole dataset in the last question and check for repeat orders for the next 30 days for each unique customer, I will be able to calculate the percentage of repeat orders.\n",
    "\n",
    "#### Retrieving First Time Customer Data for December 2017"
   ]
  },
  {
   "cell_type": "code",
   "execution_count": 8,
   "metadata": {},
   "outputs": [],
   "source": [
    "df_unique = df_sorted.drop_duplicates('Profile ID',keep = 'first')\n",
    "df_unique_dec = df_unique[df_unique[\"Date_of_Booking\"] < '2018-01-01']"
   ]
  },
  {
   "cell_type": "markdown",
   "metadata": {},
   "source": [
    "#### Next we follow the following step :\n",
    "FOR ALL ROWS OF DEC 2017 DATA :<br>\n",
    "&emsp; &emsp; 1. Get the dates for the next 30 days<br>\n",
    "&emsp; &emsp; 2. Get the respective data of the next 30 days into a dataframe.<br>\n",
    "&emsp; &emsp; 3. Check for Repeats<br>\n",
    "&emsp; &emsp;&emsp; &emsp; 3.1 IF Repeats exist : increment the Count of Repeats"
   ]
  },
  {
   "cell_type": "code",
   "execution_count": 9,
   "metadata": {},
   "outputs": [],
   "source": [
    "cor = 0 #count of repeats - The number of first time customers repeating orders\n",
    "\n",
    "for index,row in df_unique_dec.iterrows():\n",
    "    # Getting the dates for the next 30 days\n",
    "    dates = np.array(row['Date_of_Booking'], dtype=np.datetime64) + np.arange(30)\n",
    "    \n",
    "    # slicing the dataframe and retrieving only data for the next 30 days\n",
    "    df_dates = df_sorted[df_sorted['Date_of_Booking'].isin(dates)]\n",
    "\n",
    "    #calculating the number of Repeat orders by this Customer\n",
    "    df_dates = df_dates.where(df_dates[\"Profile ID\"] == row['Profile ID'])\n",
    "    df_dates = df_dates.dropna()\n",
    "    if len(df_dates) > 1 :\n",
    "        cor = cor + 1"
   ]
  },
  {
   "cell_type": "markdown",
   "metadata": {},
   "source": [
    "#### Now that we have the number of first time customers repeating orders in 30 days of their first order for the month of Dec 2017 , we can calculate the percentage of the same "
   ]
  },
  {
   "cell_type": "code",
   "execution_count": 10,
   "metadata": {},
   "outputs": [
    {
     "name": "stdout",
     "output_type": "stream",
     "text": [
      "16.63%  of first time customers in Dec 2017 placed an order within 30 days of their first order\n"
     ]
    }
   ],
   "source": [
    "percentage_repeat_for_dec = (cor/len(df_unique_dec))\n",
    "print('{:.2%}'.format(percentage_repeat_for_dec),\" of first time customers in Dec 2017 placed an order within 30 days of their first order\")"
   ]
  },
  {
   "cell_type": "markdown",
   "metadata": {},
   "source": [
    "### Answer : 16.63%  of first time customers in Dec 2017 placed an order within 30 days of their first order "
   ]
  },
  {
   "cell_type": "markdown",
   "metadata": {},
   "source": [
    "## Q3.What is the 90-day repeat rate of users acquired in Jan,Feb,March 2018?\n",
    "\n",
    "Approach same as the previous question"
   ]
  },
  {
   "cell_type": "code",
   "execution_count": 11,
   "metadata": {},
   "outputs": [],
   "source": [
    "df_unique = df_sorted.drop_duplicates('Profile ID',keep = 'first')\n",
    "\n",
    "#retrieving data for Jan to March 2018\n",
    "df_unique_jan_to_march = df_unique[df_unique[\"Date_of_Booking\"] < '2018-04-01']\n",
    "df_unique_jan_to_march = df_unique[df_unique[\"Date_of_Booking\"] >= '2018-01-01']\n",
    "\n",
    "cor = 0 #count of repeats\n",
    "\n",
    "\n",
    "for index,row in df_unique_jan_to_march.iterrows():\n",
    "    # Getting the dates for the next 90 days\n",
    "    dates = np.array(row['Date_of_Booking'], dtype=np.datetime64) + np.arange(90)\n",
    "    \n",
    "    # slicing the dataframe and retrieving only data for the next 90 days\n",
    "    df_dates = df_sorted[df_sorted['Date_of_Booking'].isin(dates)]\n",
    "    \n",
    "    #calculating the number of Repeat orders by this Customer within the time frame\n",
    "    df_dates = df_dates.where(df_dates[\"Profile ID\"] == row['Profile ID'])\n",
    "    df_dates = df_dates.dropna()\n",
    "    if len(df_dates) > 1 :\n",
    "        #if repeat order exist, increment COR\n",
    "        cor = cor + 1"
   ]
  },
  {
   "cell_type": "code",
   "execution_count": 12,
   "metadata": {},
   "outputs": [
    {
     "name": "stdout",
     "output_type": "stream",
     "text": [
      "13.26% of first time customers in Jan, Feb and March 2018 placed an order within 90 days of their first order\n"
     ]
    }
   ],
   "source": [
    "percentage_repeat_for_jan_to_march = (cor/len(df_unique_jan_to_march))\n",
    "print('{:.2%}'.format(percentage_repeat_for_jan_to_march), \"of first time customers in Jan, Feb and March 2018 placed an order within 90 days of their first order\")"
   ]
  },
  {
   "cell_type": "markdown",
   "metadata": {},
   "source": [
    "### Result : 13.26% of first time customers in Jan, Feb and March 2018 placed an order within 90 days of their first order"
   ]
  },
  {
   "cell_type": "markdown",
   "metadata": {},
   "source": [
    "## Q5. Plot the distribution of users by frequency of their 90-day repeat (Number of times user repeated within first 90 days)\t\t\n",
    "\n",
    "\n",
    "#### First, we initialize two columns <br> 1. Gap - Reresents Gap between Date of Booking and Date of Service Requested. <br> 90_day_repeat - contains value 1 or 0 i.e there was another order by the customer within 90 days or not"
   ]
  },
  {
   "cell_type": "code",
   "execution_count": 13,
   "metadata": {},
   "outputs": [
    {
     "name": "stderr",
     "output_type": "stream",
     "text": [
      "C:\\Users\\Vansh\\Anaconda3\\envs\\env_dlib\\lib\\site-packages\\ipykernel_launcher.py:2: SettingWithCopyWarning: \n",
      "A value is trying to be set on a copy of a slice from a DataFrame.\n",
      "Try using .loc[row_indexer,col_indexer] = value instead\n",
      "\n",
      "See the caveats in the documentation: http://pandas.pydata.org/pandas-docs/stable/indexing.html#indexing-view-versus-copy\n",
      "  \n",
      "C:\\Users\\Vansh\\Anaconda3\\envs\\env_dlib\\lib\\site-packages\\ipykernel_launcher.py:3: SettingWithCopyWarning: \n",
      "A value is trying to be set on a copy of a slice from a DataFrame.\n",
      "Try using .loc[row_indexer,col_indexer] = value instead\n",
      "\n",
      "See the caveats in the documentation: http://pandas.pydata.org/pandas-docs/stable/indexing.html#indexing-view-versus-copy\n",
      "  This is separate from the ipykernel package so we can avoid doing imports until\n"
     ]
    }
   ],
   "source": [
    "df_unique = df_sorted.drop_duplicates('Profile ID',keep = 'first')\n",
    "df_unique['Gap'] = 0\n",
    "df_unique['90_day_repeat'] = 0"
   ]
  },
  {
   "cell_type": "code",
   "execution_count": 14,
   "metadata": {},
   "outputs": [
    {
     "data": {
      "text/html": [
       "<div>\n",
       "<style scoped>\n",
       "    .dataframe tbody tr th:only-of-type {\n",
       "        vertical-align: middle;\n",
       "    }\n",
       "\n",
       "    .dataframe tbody tr th {\n",
       "        vertical-align: top;\n",
       "    }\n",
       "\n",
       "    .dataframe thead th {\n",
       "        text-align: right;\n",
       "    }\n",
       "</style>\n",
       "<table border=\"1\" class=\"dataframe\">\n",
       "  <thead>\n",
       "    <tr style=\"text-align: right;\">\n",
       "      <th></th>\n",
       "      <th>Transaction_ID</th>\n",
       "      <th>Profile ID</th>\n",
       "      <th>Date_of_Booking</th>\n",
       "      <th>Date_of_Service_Requested</th>\n",
       "      <th>Source</th>\n",
       "      <th>Slot of Booking (Hour of the Day)</th>\n",
       "      <th>Month_of_Booking</th>\n",
       "      <th>Gap</th>\n",
       "      <th>90_day_repeat</th>\n",
       "    </tr>\n",
       "  </thead>\n",
       "  <tbody>\n",
       "    <tr>\n",
       "      <th>25310</th>\n",
       "      <td>SAGTE</td>\n",
       "      <td>13602</td>\n",
       "      <td>2017-12-01</td>\n",
       "      <td>2017-12-03</td>\n",
       "      <td>D</td>\n",
       "      <td>18</td>\n",
       "      <td>2017-12</td>\n",
       "      <td>0</td>\n",
       "      <td>0</td>\n",
       "    </tr>\n",
       "    <tr>\n",
       "      <th>14754</th>\n",
       "      <td>SRHLB</td>\n",
       "      <td>7974</td>\n",
       "      <td>2017-12-01</td>\n",
       "      <td>2017-12-03</td>\n",
       "      <td>A</td>\n",
       "      <td>8</td>\n",
       "      <td>2017-12</td>\n",
       "      <td>0</td>\n",
       "      <td>0</td>\n",
       "    </tr>\n",
       "    <tr>\n",
       "      <th>10039</th>\n",
       "      <td>RJHNB</td>\n",
       "      <td>5436</td>\n",
       "      <td>2017-12-01</td>\n",
       "      <td>2017-12-06</td>\n",
       "      <td>C</td>\n",
       "      <td>7</td>\n",
       "      <td>2017-12</td>\n",
       "      <td>0</td>\n",
       "      <td>0</td>\n",
       "    </tr>\n",
       "    <tr>\n",
       "      <th>3398</th>\n",
       "      <td>VGEHF</td>\n",
       "      <td>1833</td>\n",
       "      <td>2017-12-01</td>\n",
       "      <td>2017-12-02</td>\n",
       "      <td>B</td>\n",
       "      <td>14</td>\n",
       "      <td>2017-12</td>\n",
       "      <td>0</td>\n",
       "      <td>0</td>\n",
       "    </tr>\n",
       "    <tr>\n",
       "      <th>22773</th>\n",
       "      <td>CHFWJ</td>\n",
       "      <td>12184</td>\n",
       "      <td>2017-12-01</td>\n",
       "      <td>2017-12-03</td>\n",
       "      <td>C</td>\n",
       "      <td>13</td>\n",
       "      <td>2017-12</td>\n",
       "      <td>0</td>\n",
       "      <td>0</td>\n",
       "    </tr>\n",
       "  </tbody>\n",
       "</table>\n",
       "</div>"
      ],
      "text/plain": [
       "      Transaction_ID  Profile ID Date_of_Booking Date_of_Service_Requested  \\\n",
       "25310          SAGTE       13602      2017-12-01                2017-12-03   \n",
       "14754          SRHLB        7974      2017-12-01                2017-12-03   \n",
       "10039          RJHNB        5436      2017-12-01                2017-12-06   \n",
       "3398           VGEHF        1833      2017-12-01                2017-12-02   \n",
       "22773          CHFWJ       12184      2017-12-01                2017-12-03   \n",
       "\n",
       "      Source  Slot of Booking (Hour of the Day) Month_of_Booking  Gap  \\\n",
       "25310      D                                 18          2017-12    0   \n",
       "14754      A                                  8          2017-12    0   \n",
       "10039      C                                  7          2017-12    0   \n",
       "3398       B                                 14          2017-12    0   \n",
       "22773      C                                 13          2017-12    0   \n",
       "\n",
       "       90_day_repeat  \n",
       "25310              0  \n",
       "14754              0  \n",
       "10039              0  \n",
       "3398               0  \n",
       "22773              0  "
      ]
     },
     "execution_count": 14,
     "metadata": {},
     "output_type": "execute_result"
    }
   ],
   "source": [
    "df_unique.head()"
   ]
  },
  {
   "cell_type": "markdown",
   "metadata": {},
   "source": [
    "### An important factor to consider is that we have data up till 30 Nov 2018. Hence, we can only have 90-day-repeat\n",
    "### data till ```Septermber 1,2018```"
   ]
  },
  {
   "cell_type": "code",
   "execution_count": 15,
   "metadata": {},
   "outputs": [],
   "source": [
    "df_unique = df_unique[df_unique[\"Date_of_Booking\"] <= '2018-09-01']"
   ]
  },
  {
   "cell_type": "code",
   "execution_count": 16,
   "metadata": {},
   "outputs": [],
   "source": [
    "# setting transaction id as index for ease in slicing\n",
    "df_unique = df_unique.set_index(\"Transaction_ID\", drop = False)\n",
    "\n",
    "cor = 0 #count of repeats\n",
    "\n",
    "#initializing frequency dictionary\n",
    "freq = dict.fromkeys(range(1,16),0)\n",
    "\n",
    "for index,row in df_unique.iterrows():\n",
    "    \n",
    "    # Getting the dates for the next 90 days\n",
    "    dates = np.array(row['Date_of_Booking'], dtype=np.datetime64) + np.arange(90)\n",
    "    \n",
    "    # slicing the dataframe and retrieving only data for the next 90 days\n",
    "    df_dates = df_sorted[df_sorted['Date_of_Booking'].isin(dates)]\n",
    "    \n",
    "    #calculating the number of Repeat orders by this Customer within the time frame\n",
    "    df_dates = df_dates.where(df_dates[\"Profile ID\"] == row['Profile ID'])\n",
    "    df_dates = df_dates.dropna()\n",
    "    if len(df_dates) > 1 :\n",
    "        #if repeat order exist, increment COR\n",
    "        cor = cor + 1\n",
    "        \n",
    "        #update number of customers per freq\n",
    "        freq[len(df_dates)-1] = freq[len(df_dates)-1] + 1\n",
    "        \n",
    "        #update 90_day_repeat column value for this customer \n",
    "        df_unique.loc[row['Transaction_ID'],'90_day_repeat'] = 1\n",
    "    "
   ]
  },
  {
   "cell_type": "markdown",
   "metadata": {},
   "source": [
    "### Plotting"
   ]
  },
  {
   "cell_type": "code",
   "execution_count": 17,
   "metadata": {},
   "outputs": [
    {
     "name": "stdout",
     "output_type": "stream",
     "text": [
      "2520 {1: 1664, 2: 492, 3: 178, 4: 83, 5: 44, 6: 18, 7: 7, 8: 17, 9: 3, 10: 5, 11: 3, 12: 3, 13: 1, 14: 1, 15: 1}\n"
     ]
    },
    {
     "data": {
      "text/plain": [
       "([<matplotlib.axis.XTick at 0x2627233c9e8>,\n",
       "  <matplotlib.axis.XTick at 0x26271576278>,\n",
       "  <matplotlib.axis.XTick at 0x26271576c88>,\n",
       "  <matplotlib.axis.XTick at 0x26271762cc0>,\n",
       "  <matplotlib.axis.XTick at 0x262717941d0>,\n",
       "  <matplotlib.axis.XTick at 0x262717946a0>,\n",
       "  <matplotlib.axis.XTick at 0x26271794b70>,\n",
       "  <matplotlib.axis.XTick at 0x262717850f0>,\n",
       "  <matplotlib.axis.XTick at 0x26271785550>,\n",
       "  <matplotlib.axis.XTick at 0x26271785a20>,\n",
       "  <matplotlib.axis.XTick at 0x26271785ef0>,\n",
       "  <matplotlib.axis.XTick at 0x26271785b00>,\n",
       "  <matplotlib.axis.XTick at 0x262717945f8>,\n",
       "  <matplotlib.axis.XTick at 0x262715f3320>,\n",
       "  <matplotlib.axis.XTick at 0x262715f37f0>],\n",
       " <a list of 15 Text xticklabel objects>)"
      ]
     },
     "execution_count": 17,
     "metadata": {},
     "output_type": "execute_result"
    },
    {
     "data": {
      "image/png": "[encoded data removed]",
      "text/plain": [
       "<Figure size 432x288 with 1 Axes>"
      ]
     },
     "metadata": {},
     "output_type": "display_data"
    }
   ],
   "source": [
    "print(cor,freq)\n",
    "plt.bar(freq.keys(),freq.values())\n",
    "plt.xticks(range(len(freq)), list(freq.keys()))"
   ]
  },
  {
   "cell_type": "code",
   "execution_count": 18,
   "metadata": {},
   "outputs": [
    {
     "data": {
      "text/plain": [
       "([<matplotlib.axis.XTick at 0x26271711748>,\n",
       "  <matplotlib.axis.XTick at 0x262718aefd0>,\n",
       "  <matplotlib.axis.XTick at 0x262718aed30>,\n",
       "  <matplotlib.axis.XTick at 0x262718e1748>,\n",
       "  <matplotlib.axis.XTick at 0x262718e1c18>,\n",
       "  <matplotlib.axis.XTick at 0x26271903160>,\n",
       "  <matplotlib.axis.XTick at 0x262719035f8>,\n",
       "  <matplotlib.axis.XTick at 0x26271903ac8>,\n",
       "  <matplotlib.axis.XTick at 0x26271903e80>,\n",
       "  <matplotlib.axis.XTick at 0x262719184a8>,\n",
       "  <matplotlib.axis.XTick at 0x26271918978>,\n",
       "  <matplotlib.axis.XTick at 0x26271918e48>,\n",
       "  <matplotlib.axis.XTick at 0x262719188d0>,\n",
       "  <matplotlib.axis.XTick at 0x262719035c0>,\n",
       "  <matplotlib.axis.XTick at 0x26271699278>],\n",
       " <a list of 15 Text xticklabel objects>)"
      ]
     },
     "execution_count": 18,
     "metadata": {},
     "output_type": "execute_result"
    },
    {
     "data": {
      "image/png": "[encoded data removed]",
      "text/plain": [
       "<Figure size 432x288 with 1 Axes>"
      ]
     },
     "metadata": {},
     "output_type": "display_data"
    }
   ],
   "source": [
    "plt.fill_between(freq.keys(), freq.values())\n",
    "plt.xticks(range(len(freq)), list(freq.keys()))"
   ]
  },
  {
   "cell_type": "markdown",
   "metadata": {},
   "source": [
    "## Insight from above\n",
    "\n",
    "#### A total of 2520 customers placed an order within 90 days of their first order, Majority of whom had a frequency of 1,2& 3 i.e 2334 out of 2520 which accounts for 92.6% of the total customers placing an order within 90 days of their first order."
   ]
  },
  {
   "cell_type": "markdown",
   "metadata": {},
   "source": [
    "## Q4. Use logistic regression to predict the 90-day repeat of users acquired in November 2018. Hint: Use Source, Slot of Booking, Gap between date of Booking and date of service requested as predictor variables\"\n",
    "\n",
    "First, We import certain libraries which will be useful for creating the model\n"
   ]
  },
  {
   "cell_type": "code",
   "execution_count": 19,
   "metadata": {},
   "outputs": [],
   "source": [
    "import seaborn as sb\n",
    "import sklearn\n",
    "from sklearn.preprocessing import scale\n",
    "from sklearn.linear_model import LogisticRegression\n",
    "from sklearn.model_selection import train_test_split\n",
    "from sklearn import metrics\n",
    "from sklearn import preprocessing\n",
    "from sklearn.ensemble import RandomForestClassifier"
   ]
  },
  {
   "cell_type": "code",
   "execution_count": 20,
   "metadata": {},
   "outputs": [],
   "source": [
    "%matplotlib inline"
   ]
  },
  {
   "cell_type": "markdown",
   "metadata": {},
   "source": [
    "#### Slicing data required for the model\n",
    "\n",
    "Columns such as ``` Transaction_ID, Profile_ID``` cannot be instrumental in predicting future 90_day_repeats as they represent past transactions and already existing users."
   ]
  },
  {
   "cell_type": "code",
   "execution_count": 21,
   "metadata": {},
   "outputs": [],
   "source": [
    "X = df_unique.loc[:,['Date_of_Booking',\"Date_of_Service_Requested\",\"Source\",\"Slot of Booking (Hour of the Day)\",'Month_of_Booking',\"Gap\",\"90_day_repeat\"]]"
   ]
  },
  {
   "cell_type": "code",
   "execution_count": 22,
   "metadata": {},
   "outputs": [
    {
     "data": {
      "text/plain": [
       "<matplotlib.axes._subplots.AxesSubplot at 0x262725c17f0>"
      ]
     },
     "execution_count": 22,
     "metadata": {},
     "output_type": "execute_result"
    },
    {
     "data": {
      "image/png": "[encoded data removed]",
      "text/plain": [
       "<Figure size 432x288 with 1 Axes>"
      ]
     },
     "metadata": {},
     "output_type": "display_data"
    }
   ],
   "source": [
    "sb.countplot(x='Month_of_Booking',hue='90_day_repeat', data = X)"
   ]
  },
  {
   "cell_type": "markdown",
   "metadata": {},
   "source": [
    "### An important factor to consider is that we have data up till 30 Nov 2018. Hence, we can only have 90-day-repeat\n",
    "### data till ```Septermber 1,2018```"
   ]
  },
  {
   "cell_type": "code",
   "execution_count": 23,
   "metadata": {},
   "outputs": [],
   "source": [
    "X = X[X['Date_of_Booking']<'2018-09-01']"
   ]
  },
  {
   "cell_type": "code",
   "execution_count": 24,
   "metadata": {},
   "outputs": [
    {
     "data": {
      "text/plain": [
       "<matplotlib.axes._subplots.AxesSubplot at 0x26272669cf8>"
      ]
     },
     "execution_count": 24,
     "metadata": {},
     "output_type": "execute_result"
    },
    {
     "data": {
      "image/png": "[encoded data removed]",
      "text/plain": [
       "<Figure size 432x288 with 1 Axes>"
      ]
     },
     "metadata": {},
     "output_type": "display_data"
    }
   ],
   "source": [
    "sb.countplot(x='Month_of_Booking',hue='90_day_repeat', data = X)"
   ]
  },
  {
   "cell_type": "markdown",
   "metadata": {},
   "source": [
    "#### Assigning y as the dependent variable"
   ]
  },
  {
   "cell_type": "code",
   "execution_count": 25,
   "metadata": {},
   "outputs": [
    {
     "data": {
      "text/plain": [
       "0    11050\n",
       "1     2516\n",
       "Name: 90_day_repeat, dtype: int64"
      ]
     },
     "execution_count": 25,
     "metadata": {},
     "output_type": "execute_result"
    }
   ],
   "source": [
    "y =X['90_day_repeat']\n",
    "y.value_counts()"
   ]
  },
  {
   "cell_type": "code",
   "execution_count": 26,
   "metadata": {},
   "outputs": [
    {
     "data": {
      "text/plain": [
       "0    11050\n",
       "1     2516\n",
       "Name: 90_day_repeat, dtype: int64"
      ]
     },
     "execution_count": 26,
     "metadata": {},
     "output_type": "execute_result"
    }
   ],
   "source": [
    "X['90_day_repeat'].value_counts()"
   ]
  },
  {
   "cell_type": "markdown",
   "metadata": {},
   "source": [
    "#### As the above data is imbalanced, some balancing of data will be required for implementing a model, but first we check for the effect of each present column on the column to be predicted "
   ]
  },
  {
   "cell_type": "code",
   "execution_count": 27,
   "metadata": {},
   "outputs": [
    {
     "data": {
      "text/plain": [
       "<matplotlib.axes._subplots.AxesSubplot at 0x262718590f0>"
      ]
     },
     "execution_count": 27,
     "metadata": {},
     "output_type": "execute_result"
    },
    {
     "data": {
      "image/png": "[encoded data removed]",
      "text/plain": [
       "<Figure size 432x288 with 1 Axes>"
      ]
     },
     "metadata": {},
     "output_type": "display_data"
    }
   ],
   "source": [
    "sb.countplot(x='Source',hue=y,data = X)"
   ]
  },
  {
   "cell_type": "markdown",
   "metadata": {},
   "source": [
    "#### Source seems to have significant effect on 90_day_repeats"
   ]
  },
  {
   "cell_type": "code",
   "execution_count": 28,
   "metadata": {},
   "outputs": [],
   "source": [
    "import datetime as dt\n",
    "X['Date_of_Booking'] = X['Date_of_Booking'].map(dt.datetime.toordinal)\n",
    "X['Date_of_Service_Requested'] =X['Date_of_Service_Requested'].map(dt.datetime.toordinal)\n"
   ]
  },
  {
   "cell_type": "code",
   "execution_count": 29,
   "metadata": {},
   "outputs": [],
   "source": [
    "X['Gap'] = X['Date_of_Service_Requested'] - X['Date_of_Booking']"
   ]
  },
  {
   "cell_type": "code",
   "execution_count": 30,
   "metadata": {},
   "outputs": [
    {
     "data": {
      "text/plain": [
       "<matplotlib.axes._subplots.AxesSubplot at 0x262767d8e48>"
      ]
     },
     "execution_count": 30,
     "metadata": {},
     "output_type": "execute_result"
    },
    {
     "data": {
      "image/png": "[encoded data removed]",
      "text/plain": [
       "<Figure size 432x288 with 1 Axes>"
      ]
     },
     "metadata": {},
     "output_type": "display_data"
    }
   ],
   "source": [
    "sb.countplot(x='Gap',hue=y,data = X)"
   ]
  },
  {
   "cell_type": "markdown",
   "metadata": {},
   "source": [
    "#### The Gap between service requested nad service delivery does't seem to have any effect on the 90_day_repeat"
   ]
  },
  {
   "cell_type": "code",
   "execution_count": 31,
   "metadata": {},
   "outputs": [],
   "source": [
    "X = X.drop(columns = ['Date_of_Booking','Date_of_Service_Requested','Gap']) # So , we can get rid of it"
   ]
  },
  {
   "cell_type": "code",
   "execution_count": 32,
   "metadata": {},
   "outputs": [
    {
     "data": {
      "text/plain": [
       "<matplotlib.axes._subplots.AxesSubplot at 0x2627685c588>"
      ]
     },
     "execution_count": 32,
     "metadata": {},
     "output_type": "execute_result"
    },
    {
     "data": {
      "image/png": "[encoded data removed]",
      "text/plain": [
       "<Figure size 432x288 with 1 Axes>"
      ]
     },
     "metadata": {},
     "output_type": "display_data"
    }
   ],
   "source": [
    "sb.countplot(x='Slot of Booking (Hour of the Day)',hue=y,data = X)"
   ]
  },
  {
   "cell_type": "markdown",
   "metadata": {},
   "source": [
    "#### The slot of the day seems to have some effect on the 90 day repeats\n",
    "\n",
    "#### SO, next we are going to group slots for ease of analysis\n",
    "##### Slots 6-9 as 8\n",
    "##### Slots 10-12 as 11\n",
    "##### Slots 13-15 as 14\n",
    "##### Slots >15 as 17"
   ]
  },
  {
   "cell_type": "code",
   "execution_count": 33,
   "metadata": {},
   "outputs": [],
   "source": [
    "X['Slot of Booking (Hour of the Day)'] = X['Slot of Booking (Hour of the Day)'].apply(lambda x: 8 if x<=9 else x)\n",
    "X['Slot of Booking (Hour of the Day)'] = X['Slot of Booking (Hour of the Day)'].apply(lambda x: 11 if (x<13 and x>9) else x)\n",
    "X['Slot of Booking (Hour of the Day)'] = X['Slot of Booking (Hour of the Day)'].apply(lambda x: 14 if x>12 and x<16 else x)\n",
    "X['Slot of Booking (Hour of the Day)'] = X['Slot of Booking (Hour of the Day)'].apply(lambda x: 17 if x>15 else x)"
   ]
  },
  {
   "cell_type": "code",
   "execution_count": 34,
   "metadata": {},
   "outputs": [
    {
     "data": {
      "text/plain": [
       "14    7301\n",
       "17    2333\n",
       "8     2227\n",
       "11    1705\n",
       "Name: Slot of Booking (Hour of the Day), dtype: int64"
      ]
     },
     "execution_count": 34,
     "metadata": {},
     "output_type": "execute_result"
    }
   ],
   "source": [
    "X['Slot of Booking (Hour of the Day)'].value_counts()"
   ]
  },
  {
   "cell_type": "code",
   "execution_count": 35,
   "metadata": {},
   "outputs": [
    {
     "data": {
      "text/plain": [
       "<matplotlib.axes._subplots.AxesSubplot at 0x26276823d68>"
      ]
     },
     "execution_count": 35,
     "metadata": {},
     "output_type": "execute_result"
    },
    {
     "data": {
      "image/png": "[encoded data removed]",
      "text/plain": [
       "<Figure size 432x288 with 1 Axes>"
      ]
     },
     "metadata": {},
     "output_type": "display_data"
    }
   ],
   "source": [
    "sb.countplot(x='Slot of Booking (Hour of the Day)',hue=y,data = X)"
   ]
  },
  {
   "cell_type": "code",
   "execution_count": 36,
   "metadata": {},
   "outputs": [],
   "source": [
    "X = X.drop(columns=['90_day_repeat','Month_of_Booking']) #90_day_repeat is the dependent variable and Month isn't required"
   ]
  },
  {
   "cell_type": "code",
   "execution_count": 37,
   "metadata": {},
   "outputs": [
    {
     "data": {
      "text/html": [
       "<div>\n",
       "<style scoped>\n",
       "    .dataframe tbody tr th:only-of-type {\n",
       "        vertical-align: middle;\n",
       "    }\n",
       "\n",
       "    .dataframe tbody tr th {\n",
       "        vertical-align: top;\n",
       "    }\n",
       "\n",
       "    .dataframe thead th {\n",
       "        text-align: right;\n",
       "    }\n",
       "</style>\n",
       "<table border=\"1\" class=\"dataframe\">\n",
       "  <thead>\n",
       "    <tr style=\"text-align: right;\">\n",
       "      <th></th>\n",
       "      <th>Source</th>\n",
       "      <th>Slot of Booking (Hour of the Day)</th>\n",
       "    </tr>\n",
       "    <tr>\n",
       "      <th>Transaction_ID</th>\n",
       "      <th></th>\n",
       "      <th></th>\n",
       "    </tr>\n",
       "  </thead>\n",
       "  <tbody>\n",
       "    <tr>\n",
       "      <th>SAGTE</th>\n",
       "      <td>D</td>\n",
       "      <td>17</td>\n",
       "    </tr>\n",
       "    <tr>\n",
       "      <th>SRHLB</th>\n",
       "      <td>A</td>\n",
       "      <td>8</td>\n",
       "    </tr>\n",
       "    <tr>\n",
       "      <th>RJHNB</th>\n",
       "      <td>C</td>\n",
       "      <td>8</td>\n",
       "    </tr>\n",
       "    <tr>\n",
       "      <th>VGEHF</th>\n",
       "      <td>B</td>\n",
       "      <td>14</td>\n",
       "    </tr>\n",
       "    <tr>\n",
       "      <th>CHFWJ</th>\n",
       "      <td>C</td>\n",
       "      <td>14</td>\n",
       "    </tr>\n",
       "  </tbody>\n",
       "</table>\n",
       "</div>"
      ],
      "text/plain": [
       "               Source  Slot of Booking (Hour of the Day)\n",
       "Transaction_ID                                          \n",
       "SAGTE               D                                 17\n",
       "SRHLB               A                                  8\n",
       "RJHNB               C                                  8\n",
       "VGEHF               B                                 14\n",
       "CHFWJ               C                                 14"
      ]
     },
     "execution_count": 37,
     "metadata": {},
     "output_type": "execute_result"
    }
   ],
   "source": [
    "X.head()"
   ]
  },
  {
   "cell_type": "markdown",
   "metadata": {},
   "source": [
    "#### We are required to convert Source to numeric format for ease in Logistic Regression model generation"
   ]
  },
  {
   "cell_type": "code",
   "execution_count": 38,
   "metadata": {},
   "outputs": [],
   "source": [
    "from sklearn.preprocessing import LabelEncoder\n",
    "number = LabelEncoder()\n",
    "X['Source'] = number.fit_transform(X['Source'].astype('str'))\n",
    "\n",
    "#number.fit_transform(x_test['Source'].astype('str')) #GET DUMMIES"
   ]
  },
  {
   "cell_type": "code",
   "execution_count": 39,
   "metadata": {},
   "outputs": [
    {
     "data": {
      "text/plain": [
       "2    4595\n",
       "3    3398\n",
       "1    3367\n",
       "0    2206\n",
       "Name: Source, dtype: int64"
      ]
     },
     "execution_count": 39,
     "metadata": {},
     "output_type": "execute_result"
    }
   ],
   "source": [
    "X['Source'].value_counts()"
   ]
  },
  {
   "cell_type": "code",
   "execution_count": 40,
   "metadata": {},
   "outputs": [
    {
     "data": {
      "text/plain": [
       "<matplotlib.axes._subplots.AxesSubplot at 0x26276980a58>"
      ]
     },
     "execution_count": 40,
     "metadata": {},
     "output_type": "execute_result"
    },
    {
     "data": {
      "image/png": "[encoded data removed]",
      "text/plain": [
       "<Figure size 432x288 with 1 Axes>"
      ]
     },
     "metadata": {},
     "output_type": "display_data"
    }
   ],
   "source": [
    "(y.value_counts()).plot.bar()"
   ]
  },
  {
   "cell_type": "markdown",
   "metadata": {},
   "source": [
    "## As mentioned earlier, due to the imbalance in data we will be required to balance the data out"
   ]
  },
  {
   "cell_type": "code",
   "execution_count": 62,
   "metadata": {},
   "outputs": [
    {
     "name": "stderr",
     "output_type": "stream",
     "text": [
      "C:\\Users\\Vansh\\Anaconda3\\envs\\env_dlib\\lib\\site-packages\\sklearn\\linear_model\\logistic.py:433: FutureWarning: Default solver will be changed to 'lbfgs' in 0.22. Specify a solver to silence this warning.\n",
      "  FutureWarning)\n"
     ]
    },
    {
     "data": {
      "text/plain": [
       "LogisticRegression(C=1.0, class_weight='balanced', dual=False,\n",
       "          fit_intercept=True, intercept_scaling=1, max_iter=100,\n",
       "          multi_class='warn', n_jobs=None, penalty='l2', random_state=None,\n",
       "          solver='warn', tol=0.0001, verbose=0, warm_start=False)"
      ]
     },
     "execution_count": 62,
     "metadata": {},
     "output_type": "execute_result"
    }
   ],
   "source": [
    "logisticRegr = LogisticRegression(class_weight = 'balanced') # Generating a logistic regression model\n",
    "logisticRegr.fit(X,y)"
   ]
  },
  {
   "cell_type": "markdown",
   "metadata": {},
   "source": [
    "#### Side Note :  Also tried balancing out data using SMOTE, it produced the same results"
   ]
  },
  {
   "cell_type": "markdown",
   "metadata": {},
   "source": [
    "## Preparing the Nov 2018 data"
   ]
  },
  {
   "cell_type": "code",
   "execution_count": 42,
   "metadata": {},
   "outputs": [
    {
     "data": {
      "text/html": [
       "<div>\n",
       "<style scoped>\n",
       "    .dataframe tbody tr th:only-of-type {\n",
       "        vertical-align: middle;\n",
       "    }\n",
       "\n",
       "    .dataframe tbody tr th {\n",
       "        vertical-align: top;\n",
       "    }\n",
       "\n",
       "    .dataframe thead th {\n",
       "        text-align: right;\n",
       "    }\n",
       "</style>\n",
       "<table border=\"1\" class=\"dataframe\">\n",
       "  <thead>\n",
       "    <tr style=\"text-align: right;\">\n",
       "      <th></th>\n",
       "      <th>Transaction_ID</th>\n",
       "      <th>Profile ID</th>\n",
       "      <th>Date_of_Booking</th>\n",
       "      <th>Date_of_Service_Requested</th>\n",
       "      <th>Source</th>\n",
       "      <th>Slot of Booking (Hour of the Day)</th>\n",
       "      <th>Month_of_Booking</th>\n",
       "    </tr>\n",
       "  </thead>\n",
       "  <tbody>\n",
       "    <tr>\n",
       "      <th>19980</th>\n",
       "      <td>CSOCG</td>\n",
       "      <td>10709</td>\n",
       "      <td>2018-11-01</td>\n",
       "      <td>2018-11-02</td>\n",
       "      <td>D</td>\n",
       "      <td>11</td>\n",
       "      <td>2018-11</td>\n",
       "    </tr>\n",
       "    <tr>\n",
       "      <th>24338</th>\n",
       "      <td>BPWLE</td>\n",
       "      <td>13034</td>\n",
       "      <td>2018-11-01</td>\n",
       "      <td>2018-11-06</td>\n",
       "      <td>C</td>\n",
       "      <td>14</td>\n",
       "      <td>2018-11</td>\n",
       "    </tr>\n",
       "    <tr>\n",
       "      <th>7255</th>\n",
       "      <td>YYFGQ</td>\n",
       "      <td>3860</td>\n",
       "      <td>2018-11-01</td>\n",
       "      <td>2018-11-03</td>\n",
       "      <td>C</td>\n",
       "      <td>13</td>\n",
       "      <td>2018-11</td>\n",
       "    </tr>\n",
       "    <tr>\n",
       "      <th>24386</th>\n",
       "      <td>YBNUC</td>\n",
       "      <td>13061</td>\n",
       "      <td>2018-11-01</td>\n",
       "      <td>2018-11-06</td>\n",
       "      <td>B</td>\n",
       "      <td>13</td>\n",
       "      <td>2018-11</td>\n",
       "    </tr>\n",
       "    <tr>\n",
       "      <th>10666</th>\n",
       "      <td>FOBFD</td>\n",
       "      <td>5776</td>\n",
       "      <td>2018-11-01</td>\n",
       "      <td>2018-11-01</td>\n",
       "      <td>B</td>\n",
       "      <td>14</td>\n",
       "      <td>2018-11</td>\n",
       "    </tr>\n",
       "  </tbody>\n",
       "</table>\n",
       "</div>"
      ],
      "text/plain": [
       "      Transaction_ID  Profile ID Date_of_Booking Date_of_Service_Requested  \\\n",
       "19980          CSOCG       10709      2018-11-01                2018-11-02   \n",
       "24338          BPWLE       13034      2018-11-01                2018-11-06   \n",
       "7255           YYFGQ        3860      2018-11-01                2018-11-03   \n",
       "24386          YBNUC       13061      2018-11-01                2018-11-06   \n",
       "10666          FOBFD        5776      2018-11-01                2018-11-01   \n",
       "\n",
       "      Source  Slot of Booking (Hour of the Day) Month_of_Booking  \n",
       "19980      D                                 11          2018-11  \n",
       "24338      C                                 14          2018-11  \n",
       "7255       C                                 13          2018-11  \n",
       "24386      B                                 13          2018-11  \n",
       "10666      B                                 14          2018-11  "
      ]
     },
     "execution_count": 42,
     "metadata": {},
     "output_type": "execute_result"
    }
   ],
   "source": [
    "import datetime as dt\n",
    "from sklearn.preprocessing import LabelEncoder\n",
    "number = LabelEncoder()\n",
    "\n",
    "df_nov = df_sorted.drop_duplicates('Profile ID',keep = 'first')\n",
    "df_nov = df_nov[df_nov[\"Date_of_Booking\"] >= '2018-11-01']\n",
    "df_nov.head()"
   ]
  },
  {
   "cell_type": "code",
   "execution_count": 43,
   "metadata": {},
   "outputs": [
    {
     "data": {
      "text/html": [
       "<div>\n",
       "<style scoped>\n",
       "    .dataframe tbody tr th:only-of-type {\n",
       "        vertical-align: middle;\n",
       "    }\n",
       "\n",
       "    .dataframe tbody tr th {\n",
       "        vertical-align: top;\n",
       "    }\n",
       "\n",
       "    .dataframe thead th {\n",
       "        text-align: right;\n",
       "    }\n",
       "</style>\n",
       "<table border=\"1\" class=\"dataframe\">\n",
       "  <thead>\n",
       "    <tr style=\"text-align: right;\">\n",
       "      <th></th>\n",
       "      <th>Transaction_ID</th>\n",
       "      <th>Profile ID</th>\n",
       "      <th>Date_of_Booking</th>\n",
       "      <th>Date_of_Service_Requested</th>\n",
       "      <th>Source</th>\n",
       "      <th>Slot of Booking (Hour of the Day)</th>\n",
       "      <th>Month_of_Booking</th>\n",
       "      <th>Gap</th>\n",
       "    </tr>\n",
       "  </thead>\n",
       "  <tbody>\n",
       "    <tr>\n",
       "      <th>19980</th>\n",
       "      <td>CSOCG</td>\n",
       "      <td>10709</td>\n",
       "      <td>736999</td>\n",
       "      <td>737000</td>\n",
       "      <td>D</td>\n",
       "      <td>11</td>\n",
       "      <td>2018-11</td>\n",
       "      <td>1</td>\n",
       "    </tr>\n",
       "    <tr>\n",
       "      <th>24338</th>\n",
       "      <td>BPWLE</td>\n",
       "      <td>13034</td>\n",
       "      <td>736999</td>\n",
       "      <td>737004</td>\n",
       "      <td>C</td>\n",
       "      <td>14</td>\n",
       "      <td>2018-11</td>\n",
       "      <td>5</td>\n",
       "    </tr>\n",
       "    <tr>\n",
       "      <th>7255</th>\n",
       "      <td>YYFGQ</td>\n",
       "      <td>3860</td>\n",
       "      <td>736999</td>\n",
       "      <td>737001</td>\n",
       "      <td>C</td>\n",
       "      <td>13</td>\n",
       "      <td>2018-11</td>\n",
       "      <td>2</td>\n",
       "    </tr>\n",
       "    <tr>\n",
       "      <th>24386</th>\n",
       "      <td>YBNUC</td>\n",
       "      <td>13061</td>\n",
       "      <td>736999</td>\n",
       "      <td>737004</td>\n",
       "      <td>B</td>\n",
       "      <td>13</td>\n",
       "      <td>2018-11</td>\n",
       "      <td>5</td>\n",
       "    </tr>\n",
       "    <tr>\n",
       "      <th>10666</th>\n",
       "      <td>FOBFD</td>\n",
       "      <td>5776</td>\n",
       "      <td>736999</td>\n",
       "      <td>736999</td>\n",
       "      <td>B</td>\n",
       "      <td>14</td>\n",
       "      <td>2018-11</td>\n",
       "      <td>0</td>\n",
       "    </tr>\n",
       "  </tbody>\n",
       "</table>\n",
       "</div>"
      ],
      "text/plain": [
       "      Transaction_ID  Profile ID  Date_of_Booking  Date_of_Service_Requested  \\\n",
       "19980          CSOCG       10709           736999                     737000   \n",
       "24338          BPWLE       13034           736999                     737004   \n",
       "7255           YYFGQ        3860           736999                     737001   \n",
       "24386          YBNUC       13061           736999                     737004   \n",
       "10666          FOBFD        5776           736999                     736999   \n",
       "\n",
       "      Source  Slot of Booking (Hour of the Day) Month_of_Booking  Gap  \n",
       "19980      D                                 11          2018-11    1  \n",
       "24338      C                                 14          2018-11    5  \n",
       "7255       C                                 13          2018-11    2  \n",
       "24386      B                                 13          2018-11    5  \n",
       "10666      B                                 14          2018-11    0  "
      ]
     },
     "execution_count": 43,
     "metadata": {},
     "output_type": "execute_result"
    }
   ],
   "source": [
    "df_nov['Date_of_Booking'] = df_nov['Date_of_Booking'].map(dt.datetime.toordinal)\n",
    "df_nov['Date_of_Service_Requested'] =df_nov['Date_of_Service_Requested'].map(dt.datetime.toordinal)\n",
    "df_nov['Gap'] = df_nov['Date_of_Service_Requested'] - df_nov['Date_of_Booking']\n",
    "df_nov.head()"
   ]
  },
  {
   "cell_type": "code",
   "execution_count": 44,
   "metadata": {},
   "outputs": [],
   "source": [
    "df_nov = df_nov.loc[:,['Source','Slot of Booking (Hour of the Day)']]"
   ]
  },
  {
   "cell_type": "code",
   "execution_count": 45,
   "metadata": {},
   "outputs": [],
   "source": [
    "df_nov['Slot of Booking (Hour of the Day)'] = df_nov['Slot of Booking (Hour of the Day)'].apply(lambda x: 8 if x<=9 else x)\n",
    "df_nov['Slot of Booking (Hour of the Day)'] = df_nov['Slot of Booking (Hour of the Day)'].apply(lambda x: 11 if (x<13 and x>9) else x)\n",
    "df_nov['Slot of Booking (Hour of the Day)'] = df_nov['Slot of Booking (Hour of the Day)'].apply(lambda x: 14 if x>12 and x<16 else x)\n",
    "df_nov['Slot of Booking (Hour of the Day)'] = df_nov['Slot of Booking (Hour of the Day)'].apply(lambda x: 17 if x>15 else x)"
   ]
  },
  {
   "cell_type": "code",
   "execution_count": 46,
   "metadata": {},
   "outputs": [
    {
     "data": {
      "text/html": [
       "<div>\n",
       "<style scoped>\n",
       "    .dataframe tbody tr th:only-of-type {\n",
       "        vertical-align: middle;\n",
       "    }\n",
       "\n",
       "    .dataframe tbody tr th {\n",
       "        vertical-align: top;\n",
       "    }\n",
       "\n",
       "    .dataframe thead th {\n",
       "        text-align: right;\n",
       "    }\n",
       "</style>\n",
       "<table border=\"1\" class=\"dataframe\">\n",
       "  <thead>\n",
       "    <tr style=\"text-align: right;\">\n",
       "      <th></th>\n",
       "      <th>Source</th>\n",
       "      <th>Slot of Booking (Hour of the Day)</th>\n",
       "    </tr>\n",
       "  </thead>\n",
       "  <tbody>\n",
       "    <tr>\n",
       "      <th>19980</th>\n",
       "      <td>3</td>\n",
       "      <td>11</td>\n",
       "    </tr>\n",
       "    <tr>\n",
       "      <th>24338</th>\n",
       "      <td>2</td>\n",
       "      <td>14</td>\n",
       "    </tr>\n",
       "    <tr>\n",
       "      <th>7255</th>\n",
       "      <td>2</td>\n",
       "      <td>14</td>\n",
       "    </tr>\n",
       "    <tr>\n",
       "      <th>24386</th>\n",
       "      <td>1</td>\n",
       "      <td>14</td>\n",
       "    </tr>\n",
       "    <tr>\n",
       "      <th>10666</th>\n",
       "      <td>1</td>\n",
       "      <td>14</td>\n",
       "    </tr>\n",
       "  </tbody>\n",
       "</table>\n",
       "</div>"
      ],
      "text/plain": [
       "       Source  Slot of Booking (Hour of the Day)\n",
       "19980       3                                 11\n",
       "24338       2                                 14\n",
       "7255        2                                 14\n",
       "24386       1                                 14\n",
       "10666       1                                 14"
      ]
     },
     "execution_count": 46,
     "metadata": {},
     "output_type": "execute_result"
    }
   ],
   "source": [
    "df_nov['Source'] = number.fit_transform(df_nov['Source'].astype('str'))\n",
    "df_nov.head()"
   ]
  },
  {
   "cell_type": "code",
   "execution_count": 47,
   "metadata": {},
   "outputs": [
    {
     "name": "stdout",
     "output_type": "stream",
     "text": [
      "[0 0 0 ... 0 0 0]\n",
      "[0]\n"
     ]
    }
   ],
   "source": [
    "print(logisticRegr.predict(df_nov))\n",
    "a = logisticRegr.predict(df_nov)\n",
    "unique_elements, counts_elements = np.unique(a, return_counts=True)\n",
    "print(unique_elements)"
   ]
  },
  {
   "cell_type": "code",
   "execution_count": 1817,
   "metadata": {},
   "outputs": [],
   "source": [
    "predictions_nov = dict(zip(unique_elements, counts_elements))"
   ]
  },
  {
   "cell_type": "code",
   "execution_count": 1818,
   "metadata": {},
   "outputs": [
    {
     "data": {
      "text/plain": [
       "{0: 732, 1: 283}"
      ]
     },
     "execution_count": 1818,
     "metadata": {},
     "output_type": "execute_result"
    }
   ],
   "source": [
    "predictions_nov"
   ]
  },
  {
   "cell_type": "code",
   "execution_count": 1819,
   "metadata": {},
   "outputs": [
    {
     "data": {
      "text/plain": [
       "([<matplotlib.axis.XTick at 0x22f13ee96a0>,\n",
       "  <matplotlib.axis.XTick at 0x22f13e69dd8>],\n",
       " <a list of 2 Text xticklabel objects>)"
      ]
     },
     "execution_count": 1819,
     "metadata": {},
     "output_type": "execute_result"
    },
    {
     "data": {
      "image/png": "[encoded data removed]",
      "text/plain": [
       "<Figure size 432x288 with 1 Axes>"
      ]
     },
     "metadata": {},
     "output_type": "display_data"
    }
   ],
   "source": [
    "plt.bar(predictions_nov.keys(),predictions_nov.values(), width=0.6)\n",
    "plt.xticks(np.arange(2))"
   ]
  },
  {
   "cell_type": "markdown",
   "metadata": {},
   "source": [
    "### Result : 283 first time customers ordering within 90 days of first order predicted for Nov 2018"
   ]
  },
  {
   "cell_type": "code",
   "execution_count": 79,
   "metadata": {},
   "outputs": [],
   "source": [
    "import datetime\n",
    "df1 = df_sorted\n",
    "df1['Day_of_week'] = df1['Date_of_Service_Requested'].apply(lambda x: x.strftime('%A'))"
   ]
  },
  {
   "cell_type": "code",
   "execution_count": 80,
   "metadata": {},
   "outputs": [
    {
     "data": {
      "text/plain": [
       "array(['Sunday', 'Wednesday', 'Saturday', 'Friday', 'Tuesday', 'Monday',\n",
       "       'Thursday'], dtype=object)"
      ]
     },
     "execution_count": 80,
     "metadata": {},
     "output_type": "execute_result"
    }
   ],
   "source": [
    "df1['Day_of_week'].unique()"
   ]
  },
  {
   "cell_type": "code",
   "execution_count": 81,
   "metadata": {},
   "outputs": [
    {
     "data": {
      "text/plain": [
       "Saturday     4575\n",
       "Sunday       4548\n",
       "Thursday     4430\n",
       "Wednesday    4383\n",
       "Friday       4382\n",
       "Tuesday      4354\n",
       "Monday       4268\n",
       "Name: Day_of_week, dtype: int64"
      ]
     },
     "execution_count": 81,
     "metadata": {},
     "output_type": "execute_result"
    }
   ],
   "source": [
    "df1['Day_of_week'].value_counts()"
   ]
  },
  {
   "cell_type": "code",
   "execution_count": 82,
   "metadata": {},
   "outputs": [
    {
     "data": {
      "text/plain": [
       "1.0719306466729148"
      ]
     },
     "execution_count": 82,
     "metadata": {},
     "output_type": "execute_result"
    }
   ],
   "source": [
    "len(df1[df1['Day_of_week']=='Saturday'])/len(df1[df1['Day_of_week']=='Monday'])"
   ]
  },
  {
   "cell_type": "markdown",
   "metadata": {},
   "source": [
    "## Number of Services Requested for Saturday are on average 7% more than for Mondays"
   ]
  },
  {
   "cell_type": "code",
   "execution_count": 83,
   "metadata": {},
   "outputs": [],
   "source": [
    "df1['Slot of Booking (Hour of the Day)'] = df1['Slot of Booking (Hour of the Day)'].apply(lambda x: 8 if x<9 else x)\n",
    "df1['Slot of Booking (Hour of the Day)'] = df1['Slot of Booking (Hour of the Day)'].apply(lambda x: 11 if (x<13 and x>=9) else x)\n",
    "df1['Slot of Booking (Hour of the Day)'] = df1['Slot of Booking (Hour of the Day)'].apply(lambda x: 14 if x>12 and x<=16 else x)\n",
    "df1['Slot of Booking (Hour of the Day)'] = df1['Slot of Booking (Hour of the Day)'].apply(lambda x: 17 if x>=17 else x)"
   ]
  },
  {
   "cell_type": "code",
   "execution_count": 84,
   "metadata": {},
   "outputs": [
    {
     "data": {
      "text/plain": [
       "14    16758\n",
       "17     5213\n",
       "8      5101\n",
       "11     3868\n",
       "Name: Slot of Booking (Hour of the Day), dtype: int64"
      ]
     },
     "execution_count": 84,
     "metadata": {},
     "output_type": "execute_result"
    }
   ],
   "source": [
    "df1['Slot of Booking (Hour of the Day)'].value_counts()"
   ]
  },
  {
   "cell_type": "code",
   "execution_count": 85,
   "metadata": {},
   "outputs": [],
   "source": [
    "A = df1['Slot of Booking (Hour of the Day)'][~df1['Day_of_week'].isin(['Saturday','Sunday']) ]"
   ]
  },
  {
   "cell_type": "code",
   "execution_count": 86,
   "metadata": {},
   "outputs": [],
   "source": [
    "B = A[A.isin([8,17])]"
   ]
  },
  {
   "cell_type": "code",
   "execution_count": 105,
   "metadata": {},
   "outputs": [
    {
     "data": {
      "text/plain": [
       "0.20223610654390003"
      ]
     },
     "execution_count": 105,
     "metadata": {},
     "output_type": "execute_result"
    }
   ],
   "source": [
    "(A.count()-B.count())/A.count()"
   ]
  },
  {
   "cell_type": "markdown",
   "metadata": {},
   "source": [
    "## 66% of services requested during the weekdays were during working hours i.e between 9am - 4pm"
   ]
  },
  {
   "cell_type": "code",
   "execution_count": 88,
   "metadata": {},
   "outputs": [
    {
     "data": {
      "text/plain": [
       "0.46990950226244343"
      ]
     },
     "execution_count": 88,
     "metadata": {},
     "output_type": "execute_result"
    }
   ],
   "source": [
    "(A.count()-B.count())/len(df1)"
   ]
  },
  {
   "cell_type": "markdown",
   "metadata": {},
   "source": [
    "## 47% of all bookings are for working hours during the weekdays"
   ]
  },
  {
   "cell_type": "code",
   "execution_count": 90,
   "metadata": {},
   "outputs": [
    {
     "data": {
      "text/plain": [
       "0.2948610213316096"
      ]
     },
     "execution_count": 90,
     "metadata": {},
     "output_type": "execute_result"
    }
   ],
   "source": [
    "A = df1['Slot of Booking (Hour of the Day)'][df1['Day_of_week'].isin(['Saturday','Sunday']) ]\n",
    "A.count()/len(df1)"
   ]
  },
  {
   "cell_type": "code",
   "execution_count": 98,
   "metadata": {},
   "outputs": [
    {
     "data": {
      "text/plain": [
       "0.009146735617323876"
      ]
     },
     "execution_count": 98,
     "metadata": {},
     "output_type": "execute_result"
    }
   ],
   "source": [
    "(A.count()/len(df1)) - (2/7)"
   ]
  },
  {
   "cell_type": "code",
   "execution_count": 103,
   "metadata": {},
   "outputs": [
    {
     "data": {
      "text/plain": [
       "54.16289592760181"
      ]
     },
     "execution_count": 103,
     "metadata": {},
     "output_type": "execute_result"
    }
   ],
   "source": [
    "len(df1[df1['Slot of Booking (Hour of the Day)']==14])/len(df1) * 100"
   ]
  },
  {
   "cell_type": "markdown",
   "metadata": {},
   "source": [
    "## 54% of all bookings are between 1pm and 4pm"
   ]
  },
  {
   "cell_type": "code",
   "execution_count": null,
   "metadata": {},
   "outputs": [],
   "source": []
  }
 ],
 "metadata": {
  "kernelspec": {
   "display_name": "Python 3",
   "language": "python",
   "name": "python3"
  },
  "language_info": {
   "codemirror_mode": {
    "name": "ipython",
    "version": 3
   },
   "file_extension": ".py",
   "mimetype": "text/x-python",
   "name": "python",
   "nbconvert_exporter": "python",
   "pygments_lexer": "ipython3",
   "version": "3.6.5"
  }
 },
 "nbformat": 4,
 "nbformat_minor": 2
}
